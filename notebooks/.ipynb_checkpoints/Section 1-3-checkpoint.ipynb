{
 "metadata": {
  "name": "",
  "signature": "sha256:b92fe52e1503f5e1abd6c12f5ae566d538aa7c6bac46f7a2e52d8c5a3919e142"
 },
 "nbformat": 3,
 "nbformat_minor": 0,
 "worksheets": [
  {
   "cells": [
    {
     "cell_type": "heading",
     "level": 1,
     "metadata": {},
     "source": [
      "1-3"
     ]
    },
    {
     "cell_type": "markdown",
     "metadata": {},
     "source": [
      "previously used scikit learn as black box. now review how can use more sophisticated"
     ]
    },
    {
     "cell_type": "heading",
     "level": 2,
     "metadata": {},
     "source": [
      "Pandas - Extracting Data"
     ]
    },
    {
     "cell_type": "code",
     "collapsed": false,
     "input": [
      "import pandas as pd\n",
      "import numpy as np\n",
      "\n",
      "df = pd.read_csv('../data/titanic_train.csv')"
     ],
     "language": "python",
     "metadata": {},
     "outputs": [],
     "prompt_number": 1
    },
    {
     "cell_type": "heading",
     "level": 2,
     "metadata": {},
     "source": [
      "Pandas - Cleaning Data"
     ]
    },
    {
     "cell_type": "code",
     "collapsed": false,
     "input": [
      "df = df.drop(['Name', 'Ticket', 'Cabin'], axis=1)\n",
      "\n",
      "age_mean = df['Age'].mean()\n",
      "df['Age'] = df['Age'].fillna(age_mean)\n",
      "\n",
      "from scipy.stats import mode\n",
      "\n",
      "mode_embarked = mode(df['Embarked'])[0][0]\n",
      "df['Embarked'] = df['Embarked'].fillna(mode_embarked)\n",
      "\n",
      "df['Gender'] = df['Sex'].map({'female': 0, 'male': 1}).astype(int)\n",
      "\n",
      "pd.get_dummies(df['Embarked'], prefix='Embarked').head(10)\n",
      "df = pd.concat([df, pd.get_dummies(df['Embarked'], prefix='Embarked')], axis=1)\n",
      "\n",
      "df = df.drop(['Sex', 'Embarked'], axis=1)\n",
      "\n",
      "cols = df.columns.tolist()\n",
      "cols = [cols[1]] + cols[0:1] + cols[2:]\n",
      "\n",
      "df = df[cols]\n",
      "\n",
      "train_data = df.values"
     ],
     "language": "python",
     "metadata": {},
     "outputs": [],
     "prompt_number": 2
    },
    {
     "cell_type": "heading",
     "level": 2,
     "metadata": {},
     "source": [
      "Scikit-learn - train model with training data"
     ]
    },
    {
     "cell_type": "markdown",
     "metadata": {},
     "source": [
      "Random Forest has inputs, explain. Unclear which one is optimal. GridSearchCV automatically tests."
     ]
    },
    {
     "cell_type": "markdown",
     "metadata": {},
     "source": [
      "Covered a lot of material, simply think levers of tool. Wonder how to compare how well model does, when no way to determine if predictions are correct. X-validation. Separate"
     ]
    },
    {
     "cell_type": "code",
     "collapsed": false,
     "input": [
      "from sklearn.ensemble import RandomForestClassifier\n",
      "from sklearn.grid_search import GridSearchCV\n",
      "\n",
      "parameter_grid = {\n",
      "    'max_features': [0.5, 1.],\n",
      "    'max_depth': [5., None]\n",
      "}\n",
      "\n",
      "grid_search = GridSearchCV(RandomForestClassifier(n_estimators = 100), parameter_grid,\n",
      "                            cv=5, verbose=3)"
     ],
     "language": "python",
     "metadata": {},
     "outputs": [],
     "prompt_number": 14
    },
    {
     "cell_type": "markdown",
     "metadata": {},
     "source": [
      "now apply and see how well compare"
     ]
    },
    {
     "cell_type": "code",
     "collapsed": false,
     "input": [
      "grid_search.fit(train_data[0::,1::], train_data[0::,0])"
     ],
     "language": "python",
     "metadata": {},
     "outputs": [
      {
       "output_type": "stream",
       "stream": "stdout",
       "text": [
        "Fitting 5 folds for each of 4 candidates, totalling 20 fits\n",
        "[GridSearchCV] max_features=0.5, max_depth=5.0 .................................\n",
        "[GridSearchCV] ........ max_features=0.5, max_depth=5.0, score=0.821229 -   0.2s"
       ]
      },
      {
       "output_type": "stream",
       "stream": "stdout",
       "text": [
        "\n",
        "[GridSearchCV] max_features=0.5, max_depth=5.0 .................................\n",
        "[GridSearchCV] ........ max_features=0.5, max_depth=5.0, score=0.803371 -   0.2s"
       ]
      },
      {
       "output_type": "stream",
       "stream": "stdout",
       "text": [
        "\n",
        "[GridSearchCV] max_features=0.5, max_depth=5.0 .................................\n",
        "[GridSearchCV] ........ max_features=0.5, max_depth=5.0, score=0.792135 -   0.2s"
       ]
      },
      {
       "output_type": "stream",
       "stream": "stdout",
       "text": [
        "\n",
        "[GridSearchCV] max_features=0.5, max_depth=5.0 .................................\n",
        "[GridSearchCV] ........ max_features=0.5, max_depth=5.0, score=0.837079 -   0.2s"
       ]
      },
      {
       "output_type": "stream",
       "stream": "stdout",
       "text": [
        "\n",
        "[GridSearchCV] max_features=0.5, max_depth=5.0 .................................\n",
        "[GridSearchCV] ........ max_features=0.5, max_depth=5.0, score=0.837079 -   0.2s"
       ]
      },
      {
       "output_type": "stream",
       "stream": "stdout",
       "text": [
        "\n",
        "[GridSearchCV] max_features=1.0, max_depth=5.0 .................................\n",
        "[GridSearchCV] ........ max_features=1.0, max_depth=5.0, score=0.837989 -   0.3s"
       ]
      },
      {
       "output_type": "stream",
       "stream": "stdout",
       "text": [
        "\n",
        "[GridSearchCV] max_features=1.0, max_depth=5.0 .................................\n",
        "[GridSearchCV] ........ max_features=1.0, max_depth=5.0, score=0.786517 -   0.3s"
       ]
      },
      {
       "output_type": "stream",
       "stream": "stdout",
       "text": [
        "\n",
        "[GridSearchCV] max_features=1.0, max_depth=5.0 .................................\n",
        "[GridSearchCV] ........ max_features=1.0, max_depth=5.0, score=0.797753 -   0.2s"
       ]
      },
      {
       "output_type": "stream",
       "stream": "stdout",
       "text": [
        "\n",
        "[GridSearchCV] max_features=1.0, max_depth=5.0 .................................\n",
        "[GridSearchCV] ........ max_features=1.0, max_depth=5.0, score=0.831461 -   0.3s"
       ]
      },
      {
       "output_type": "stream",
       "stream": "stdout",
       "text": [
        "\n",
        "[GridSearchCV] max_features=1.0, max_depth=5.0 .................................\n",
        "[GridSearchCV] ........ max_features=1.0, max_depth=5.0, score=0.837079 -   0.3s"
       ]
      },
      {
       "output_type": "stream",
       "stream": "stdout",
       "text": [
        "\n",
        "[GridSearchCV] max_features=0.5, max_depth=None ................................\n",
        "[GridSearchCV] ....... max_features=0.5, max_depth=None, score=0.832402 -   0.3s"
       ]
      },
      {
       "output_type": "stream",
       "stream": "stdout",
       "text": [
        "\n",
        "[GridSearchCV] max_features=0.5, max_depth=None ................................\n",
        "[GridSearchCV] ....... max_features=0.5, max_depth=None, score=0.803371 -   0.3s"
       ]
      },
      {
       "output_type": "stream",
       "stream": "stdout",
       "text": [
        "\n",
        "[GridSearchCV] max_features=0.5, max_depth=None ................................\n",
        "[GridSearchCV] ....... max_features=0.5, max_depth=None, score=0.814607 -   0.3s"
       ]
      },
      {
       "output_type": "stream",
       "stream": "stdout",
       "text": [
        "\n",
        "[GridSearchCV] max_features=0.5, max_depth=None ................................\n",
        "[GridSearchCV] ....... max_features=0.5, max_depth=None, score=0.808989 -   0.3s"
       ]
      },
      {
       "output_type": "stream",
       "stream": "stdout",
       "text": [
        "\n",
        "[GridSearchCV] max_features=0.5, max_depth=None ................................\n",
        "[GridSearchCV] ....... max_features=0.5, max_depth=None, score=0.837079 -   0.3s"
       ]
      },
      {
       "output_type": "stream",
       "stream": "stdout",
       "text": [
        "\n",
        "[GridSearchCV] max_features=1.0, max_depth=None ................................\n",
        "[GridSearchCV] ....... max_features=1.0, max_depth=None, score=0.837989 -   0.4s"
       ]
      },
      {
       "output_type": "stream",
       "stream": "stdout",
       "text": [
        "\n",
        "[GridSearchCV] max_features=1.0, max_depth=None ................................\n",
        "[GridSearchCV] ....... max_features=1.0, max_depth=None, score=0.780899 -   0.5s"
       ]
      },
      {
       "output_type": "stream",
       "stream": "stdout",
       "text": [
        "\n",
        "[GridSearchCV] max_features=1.0, max_depth=None ................................\n",
        "[GridSearchCV] ....... max_features=1.0, max_depth=None, score=0.792135 -   0.4s"
       ]
      },
      {
       "output_type": "stream",
       "stream": "stdout",
       "text": [
        "\n",
        "[GridSearchCV] max_features=1.0, max_depth=None ................................\n",
        "[GridSearchCV] ....... max_features=1.0, max_depth=None, score=0.820225 -   0.4s"
       ]
      },
      {
       "output_type": "stream",
       "stream": "stdout",
       "text": [
        "\n",
        "[GridSearchCV] max_features=1.0, max_depth=None ................................\n",
        "[GridSearchCV] ....... max_features=1.0, max_depth=None, score=0.842697 -   0.4s"
       ]
      },
      {
       "output_type": "stream",
       "stream": "stderr",
       "text": [
        "[Parallel(n_jobs=1)]: Done   1 jobs       | elapsed:    0.2s\n",
        "[Parallel(n_jobs=1)]: Done  20 out of  20 | elapsed:    5.8s finished\n"
       ]
      },
      {
       "output_type": "stream",
       "stream": "stdout",
       "text": [
        "\n"
       ]
      },
      {
       "metadata": {},
       "output_type": "pyout",
       "prompt_number": 15,
       "text": [
        "GridSearchCV(cv=5,\n",
        "       estimator=RandomForestClassifier(bootstrap=True, compute_importances=None,\n",
        "            criterion='gini', max_depth=None, max_features='auto',\n",
        "            min_density=None, min_samples_leaf=1, min_samples_split=2,\n",
        "            n_estimators=100, n_jobs=1, oob_score=False, random_state=None,\n",
        "            verbose=0),\n",
        "       fit_params={}, iid=True, loss_func=None, n_jobs=1,\n",
        "       param_grid={'max_features': [0.5, 1.0], 'max_depth': [5.0, None]},\n",
        "       pre_dispatch='2*n_jobs', refit=True, score_func=None, scoring=None,\n",
        "       verbose=3)"
       ]
      }
     ],
     "prompt_number": 15
    },
    {
     "cell_type": "markdown",
     "metadata": {},
     "source": [
      "sort result, see best performer"
     ]
    },
    {
     "cell_type": "code",
     "collapsed": false,
     "input": [
      "sorted(grid_search.grid_scores_, key=lambda x: x.mean_validation_score)\n",
      "grid_search.best_score_\n",
      "grid_search.best_params_"
     ],
     "language": "python",
     "metadata": {},
     "outputs": [
      {
       "metadata": {},
       "output_type": "pyout",
       "prompt_number": 16,
       "text": [
        "{'max_depth': None, 'max_features': 0.5}"
       ]
      }
     ],
     "prompt_number": 16
    },
    {
     "cell_type": "markdown",
     "metadata": {},
     "source": [
      "now choose parameters to get best result"
     ]
    },
    {
     "cell_type": "code",
     "collapsed": false,
     "input": [
      "model = RandomForestClassifier(n_estimators = 100, max_features=0.5, max_depth=None)\n",
      "model = model.fit(train_data[0::,1::],train_data[0::,0])"
     ],
     "language": "python",
     "metadata": {},
     "outputs": [],
     "prompt_number": 17
    },
    {
     "cell_type": "heading",
     "level": 2,
     "metadata": {},
     "source": [
      "Scikit-learn - use model to make prediction / making predictions"
     ]
    },
    {
     "cell_type": "code",
     "collapsed": false,
     "input": [
      "df_test = pd.read_csv('../data/titanic_test.csv')\n",
      "\n",
      "df_test = df_test.drop(['Name', 'Ticket', 'Cabin'], axis=1)\n",
      "\n",
      "df_test['Age'] = df_test['Age'].fillna(age_mean)\n",
      "\n",
      "fare_means = df.pivot_table('Fare', index='Pclass', aggfunc='mean')\n",
      "df_test['Fare'] = df_test[['Fare', 'Pclass']].apply(lambda x:\n",
      "                            fare_means[x['Pclass']] if pd.isnull(x['Fare'])\n",
      "                            else x['Fare'], axis=1)\n",
      "\n",
      "df_test['Gender'] = df_test['Sex'].map({'female': 0, 'male': 1}).astype(int)\n",
      "df_test = pd.concat([df_test, pd.get_dummies(df_test['Embarked'], prefix='Embarked')],\n",
      "                axis=1)\n",
      "\n",
      "df_test = df_test.drop(['Sex', 'Embarked'], axis=1)\n",
      "\n",
      "test_data = df_test.values\n",
      "\n",
      "output = model.predict(test_data)"
     ],
     "language": "python",
     "metadata": {},
     "outputs": [],
     "prompt_number": 18
    },
    {
     "cell_type": "heading",
     "level": 2,
     "metadata": {},
     "source": [
      "Pandas - preparing submission"
     ]
    },
    {
     "cell_type": "code",
     "collapsed": false,
     "input": [
      "result = np.c_[test_data[:,0].astype(int), output.astype(int)]\n",
      "\n",
      "\n",
      "df_result = pd.DataFrame(result[:,0:2], columns=['PassengerId', 'Survived'])\n",
      "df_result.to_csv('../results/titanic_1-3.csv', index=False)"
     ],
     "language": "python",
     "metadata": {},
     "outputs": [],
     "prompt_number": 19
    },
    {
     "cell_type": "markdown",
     "metadata": {},
     "source": [
      "Your submission scored 0.77990, which is not an improvement of your best score. Keep trying! "
     ]
    },
    {
     "cell_type": "code",
     "collapsed": false,
     "input": [],
     "language": "python",
     "metadata": {},
     "outputs": []
    }
   ],
   "metadata": {}
  }
 ]
}