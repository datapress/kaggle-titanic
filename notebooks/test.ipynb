{
 "metadata": {
  "name": "",
  "signature": "sha256:64b3f3ce2654385f7b1e600b4ee56e0d85a91a1c1e1ce35b4f76300078df5219"
 },
 "nbformat": 3,
 "nbformat_minor": 0,
 "worksheets": [
  {
   "cells": [
    {
     "cell_type": "code",
     "collapsed": false,
     "input": [
      "import pandas as pd\n",
      "import numpy as np\n",
      "\n",
      "df = pd.read_csv('../data/titanic_train.csv')\n",
      "\n",
      "df = df.drop(['Name', 'Ticket', 'Cabin'], axis=1)\n",
      "\n",
      "#age_mean = df['Age'].mean()\n",
      "#df['Age'] = df['Age'].fillna(age_mean)\n",
      "\n",
      "from scipy.stats import mode\n",
      "mode_embarked = mode(df['Embarked'])[0][0]\n",
      "df['Embarked'] = df['Embarked'].fillna(mode_embarked)\n",
      "\n",
      "df['Gender'] = df['Sex'].map({'female': 0, 'male': 1}).astype(int)\n",
      "\n",
      "pd.get_dummies(df['Embarked'], prefix='Embarked').head(10)\n",
      "df = pd.concat([df, pd.get_dummies(df['Embarked'], prefix='Embarked')], axis=1)\n",
      "\n",
      "df = df.drop(['Sex', 'Embarked'], axis=1)\n",
      "\n",
      "cols = df.columns.tolist()\n",
      "cols = cols[1:2] + cols[0:1] + cols[2:]\n",
      "\n",
      "df = df[cols]\n",
      "\n",
      "\n",
      "# fill NA values in Age with -1\n",
      "df = df.fillna(-1)\n",
      "\n",
      "train_data = df.values"
     ],
     "language": "python",
     "metadata": {},
     "outputs": [],
     "prompt_number": 19
    },
    {
     "cell_type": "code",
     "collapsed": false,
     "input": [
      "from sklearn.pipeline import Pipeline\n",
      "from sklearn.preprocessing import Imputer\n",
      "from sklearn.ensemble import RandomForestClassifier\n",
      "from sklearn.grid_search import GridSearchCV\n",
      "\n",
      "imputer = Imputer(strategy='mean', missing_values=-1)\n",
      "\n",
      "classifier = RandomForestClassifier(n_estimators=100)\n",
      "\n",
      "pipeline = Pipeline([\n",
      "    ('imp', imputer),\n",
      "    ('clf', classifier),\n",
      "])\n",
      "\n",
      "#params = {\n",
      "#    'imp__strategy': ['mean', 'median'],\n",
      "#    'clf__max_features': [0.5, 1],\n",
      "#    'clf__max_depth': [3, 4, 5],\n",
      "#}\n",
      "\n",
      "parameter_grid = {\n",
      "    'imp__strategy': ['mean', 'median'],\n",
      "    'clf__max_features': [0.5, 1.],\n",
      "    'clf__max_depth': [5, None]\n",
      "}\n",
      "\n",
      "#from sklearn.pipeline import Pipeline\n",
      "#pipeline = Pipeline([(\"scaler\", scaler), (\"svm\", SVC())])\n",
      "#param_grid_pipeline = {'svm__C': 10. ** np.arange(-3, 3), 'svm__gamma' : 10. ** np.arange(-3, 3)}\n",
      "#grid_pipeline = GridSearchCV(pipeline, param_grid=param_grid_pipeline, verbose=3)\n",
      "#grid_pipeline.fit(X_train, y_train)"
     ],
     "language": "python",
     "metadata": {},
     "outputs": [],
     "prompt_number": 37
    },
    {
     "cell_type": "code",
     "collapsed": false,
     "input": [
      "grid_search = GridSearchCV(pipeline, parameter_grid, cv=2, verbose=3)"
     ],
     "language": "python",
     "metadata": {},
     "outputs": [],
     "prompt_number": 31
    },
    {
     "cell_type": "code",
     "collapsed": false,
     "input": [
      "grid_search.fit(train_data[0::,1::], train_data[0::,0])"
     ],
     "language": "python",
     "metadata": {},
     "outputs": [
      {
       "output_type": "stream",
       "stream": "stdout",
       "text": [
        "Fitting 2 folds for each of 8 candidates, totalling 16 fits\n",
        "[GridSearchCV] clf__max_features=0.5, clf__max_depth=5, imp__strategy=mean .....\n",
        "[GridSearchCV]  clf__max_features=0.5, clf__max_depth=5, imp__strategy=mean, score=0.766816 -   0.1s"
       ]
      },
      {
       "output_type": "stream",
       "stream": "stdout",
       "text": [
        "\n",
        "[GridSearchCV] clf__max_features=0.5, clf__max_depth=5, imp__strategy=mean .....\n",
        "[GridSearchCV]  clf__max_features=0.5, clf__max_depth=5, imp__strategy=mean, score=0.802247 -   0.1s"
       ]
      },
      {
       "output_type": "stream",
       "stream": "stderr",
       "text": [
        "[Parallel(n_jobs=1)]: Done   1 jobs       | elapsed:    0.1s\n",
        "/Users/savarin/anaconda/lib/python2.7/site-packages/sklearn/preprocessing/imputation.py:307: DeprecationWarning: using a boolean instead of an integer will result in an error in the future\n",
        "  median[np.ma.getmask(median_masked)] = np.nan\n"
       ]
      },
      {
       "output_type": "stream",
       "stream": "stdout",
       "text": [
        "\n",
        "[GridSearchCV] clf__max_features=0.5, clf__max_depth=5, imp__strategy=median ...\n",
        "[GridSearchCV]  clf__max_features=0.5, clf__max_depth=5, imp__strategy=median, score=0.795964 -   0.1s"
       ]
      },
      {
       "output_type": "stream",
       "stream": "stdout",
       "text": [
        "\n",
        "[GridSearchCV] clf__max_features=0.5, clf__max_depth=5, imp__strategy=median ...\n",
        "[GridSearchCV]  clf__max_features=0.5, clf__max_depth=5, imp__strategy=median, score=0.817978 -   0.1s"
       ]
      },
      {
       "output_type": "stream",
       "stream": "stdout",
       "text": [
        "\n",
        "[GridSearchCV] clf__max_features=1, clf__max_depth=5, imp__strategy=mean .......\n",
        "[GridSearchCV]  clf__max_features=1, clf__max_depth=5, imp__strategy=mean, score=0.809417 -   0.1s"
       ]
      },
      {
       "output_type": "stream",
       "stream": "stdout",
       "text": [
        "\n",
        "[GridSearchCV] clf__max_features=1, clf__max_depth=5, imp__strategy=mean .......\n",
        "[GridSearchCV]  clf__max_features=1, clf__max_depth=5, imp__strategy=mean, score=0.811236 -   0.1s"
       ]
      },
      {
       "output_type": "stream",
       "stream": "stderr",
       "text": [
        "/Users/savarin/anaconda/lib/python2.7/site-packages/sklearn/preprocessing/imputation.py:307: DeprecationWarning: using a boolean instead of an integer will result in an error in the future\n",
        "  median[np.ma.getmask(median_masked)] = np.nan\n",
        "/Users/savarin/anaconda/lib/python2.7/site-packages/sklearn/preprocessing/imputation.py:307: DeprecationWarning: using a boolean instead of an integer will result in an error in the future\n",
        "  median[np.ma.getmask(median_masked)] = np.nan\n"
       ]
      },
      {
       "output_type": "stream",
       "stream": "stdout",
       "text": [
        "\n",
        "[GridSearchCV] clf__max_features=1, clf__max_depth=5, imp__strategy=median .....\n",
        "[GridSearchCV]  clf__max_features=1, clf__max_depth=5, imp__strategy=median, score=0.809417 -   0.1s"
       ]
      },
      {
       "output_type": "stream",
       "stream": "stdout",
       "text": [
        "\n",
        "[GridSearchCV] clf__max_features=1, clf__max_depth=5, imp__strategy=median .....\n",
        "[GridSearchCV]  clf__max_features=1, clf__max_depth=5, imp__strategy=median, score=0.797753 -   0.1s"
       ]
      },
      {
       "output_type": "stream",
       "stream": "stdout",
       "text": [
        "\n",
        "[GridSearchCV] clf__max_features=0.5, clf__max_depth=None, imp__strategy=mean ..\n",
        "[GridSearchCV]  clf__max_features=0.5, clf__max_depth=None, imp__strategy=mean, score=0.778027 -   0.2s"
       ]
      },
      {
       "output_type": "stream",
       "stream": "stdout",
       "text": [
        "\n",
        "[GridSearchCV] clf__max_features=0.5, clf__max_depth=None, imp__strategy=mean ..\n",
        "[GridSearchCV]  clf__max_features=0.5, clf__max_depth=None, imp__strategy=mean, score=0.788764 -   0.2s"
       ]
      },
      {
       "output_type": "stream",
       "stream": "stderr",
       "text": [
        "/Users/savarin/anaconda/lib/python2.7/site-packages/sklearn/preprocessing/imputation.py:307: DeprecationWarning: using a boolean instead of an integer will result in an error in the future\n",
        "  median[np.ma.getmask(median_masked)] = np.nan\n",
        "/Users/savarin/anaconda/lib/python2.7/site-packages/sklearn/preprocessing/imputation.py:307: DeprecationWarning: using a boolean instead of an integer will result in an error in the future\n",
        "  median[np.ma.getmask(median_masked)] = np.nan\n"
       ]
      },
      {
       "output_type": "stream",
       "stream": "stdout",
       "text": [
        "\n",
        "[GridSearchCV] clf__max_features=0.5, clf__max_depth=None, imp__strategy=median \n",
        "[GridSearchCV]  clf__max_features=0.5, clf__max_depth=None, imp__strategy=median, score=0.760090 -   0.5s"
       ]
      },
      {
       "output_type": "stream",
       "stream": "stdout",
       "text": [
        "\n",
        "[GridSearchCV] clf__max_features=0.5, clf__max_depth=None, imp__strategy=median \n",
        "[GridSearchCV]  clf__max_features=0.5, clf__max_depth=None, imp__strategy=median, score=0.813483 -   0.2s"
       ]
      },
      {
       "output_type": "stream",
       "stream": "stdout",
       "text": [
        "\n",
        "[GridSearchCV] clf__max_features=1, clf__max_depth=None, imp__strategy=mean ....\n",
        "[GridSearchCV]  clf__max_features=1, clf__max_depth=None, imp__strategy=mean, score=0.789238 -   0.1s"
       ]
      },
      {
       "output_type": "stream",
       "stream": "stdout",
       "text": [
        "\n",
        "[GridSearchCV] clf__max_features=1, clf__max_depth=None, imp__strategy=mean ....\n",
        "[GridSearchCV]  clf__max_features=1, clf__max_depth=None, imp__strategy=mean, score=0.793258 -   0.1s"
       ]
      },
      {
       "output_type": "stream",
       "stream": "stderr",
       "text": [
        "/Users/savarin/anaconda/lib/python2.7/site-packages/sklearn/preprocessing/imputation.py:307: DeprecationWarning: using a boolean instead of an integer will result in an error in the future\n",
        "  median[np.ma.getmask(median_masked)] = np.nan\n",
        "/Users/savarin/anaconda/lib/python2.7/site-packages/sklearn/preprocessing/imputation.py:307: DeprecationWarning: using a boolean instead of an integer will result in an error in the future\n",
        "  median[np.ma.getmask(median_masked)] = np.nan\n"
       ]
      },
      {
       "output_type": "stream",
       "stream": "stdout",
       "text": [
        "\n",
        "[GridSearchCV] clf__max_features=1, clf__max_depth=None, imp__strategy=median ..\n",
        "[GridSearchCV]  clf__max_features=1, clf__max_depth=None, imp__strategy=median, score=0.771300 -   0.1s"
       ]
      },
      {
       "output_type": "stream",
       "stream": "stdout",
       "text": [
        "\n",
        "[GridSearchCV] clf__max_features=1, clf__max_depth=None, imp__strategy=median ..\n",
        "[GridSearchCV]  clf__max_features=1, clf__max_depth=None, imp__strategy=median, score=0.806742 -   0.1s"
       ]
      },
      {
       "output_type": "stream",
       "stream": "stderr",
       "text": [
        "/Users/savarin/anaconda/lib/python2.7/site-packages/sklearn/preprocessing/imputation.py:307: DeprecationWarning: using a boolean instead of an integer will result in an error in the future\n",
        "  median[np.ma.getmask(median_masked)] = np.nan\n",
        "[Parallel(n_jobs=1)]: Done  16 out of  16 | elapsed:    2.3s finished\n"
       ]
      },
      {
       "output_type": "stream",
       "stream": "stdout",
       "text": [
        "\n"
       ]
      },
      {
       "metadata": {},
       "output_type": "pyout",
       "prompt_number": 32,
       "text": [
        "GridSearchCV(cv=2,\n",
        "       estimator=Pipeline(steps=[('imp', Imputer(axis=0, copy=True, missing_values=-1, strategy='mean', verbose=0)), ('clf', RandomForestClassifier(bootstrap=True, compute_importances=None,\n",
        "            criterion='gini', max_depth=None, max_features='auto',\n",
        "            min_density=None, min_samples_leaf=1, min_samples_split=2,\n",
        "            n_estimators=100, n_jobs=1, oob_score=False, random_state=None,\n",
        "            verbose=0))]),\n",
        "       fit_params={}, iid=True, loss_func=None, n_jobs=1,\n",
        "       param_grid={'clf__max_features': [0.5, 1], 'clf__max_depth': [5, None], 'imp__strategy': ['mean', 'median']},\n",
        "       pre_dispatch='2*n_jobs', refit=True, score_func=None, scoring=None,\n",
        "       verbose=3)"
       ]
      }
     ],
     "prompt_number": 32
    },
    {
     "cell_type": "code",
     "collapsed": false,
     "input": [
      "sorted(grid_search.grid_scores_, key=lambda x: x.mean_validation_score)\n",
      "grid_search.best_score_\n",
      "grid_search.best_params_"
     ],
     "language": "python",
     "metadata": {},
     "outputs": [
      {
       "metadata": {},
       "output_type": "pyout",
       "prompt_number": 29,
       "text": [
        "{'clf__max_depth': 5, 'clf__max_features': 1, 'imp__strategy': 'median'}"
       ]
      }
     ],
     "prompt_number": 29
    },
    {
     "cell_type": "code",
     "collapsed": false,
     "input": [],
     "language": "python",
     "metadata": {},
     "outputs": []
    }
   ],
   "metadata": {}
  }
 ]
}